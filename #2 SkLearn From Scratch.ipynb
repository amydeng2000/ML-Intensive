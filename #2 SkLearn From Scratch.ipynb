{
 "cells": [
  {
   "cell_type": "code",
   "execution_count": 1,
   "id": "6e5fcf68",
   "metadata": {},
   "outputs": [],
   "source": [
    "import pandas as pd\n",
    "import numpy as np\n",
    "import sklearn.model_selection\n",
    "from sklearn import linear_model\n",
    "from collections import Counter\n",
    "import matplotlib.pyplot as plt\n",
    "%matplotlib inline \n",
    "# plt.style.use(\"../Misc/presentation.mplstyle\")\n",
    "import math\n",
    "from sklearn import preprocessing \n",
    "from collections import Counter"
   ]
  },
  {
   "cell_type": "markdown",
   "id": "e228d0c8",
   "metadata": {},
   "source": [
    "## Sample Data"
   ]
  },
  {
   "cell_type": "markdown",
   "id": "16267179",
   "metadata": {},
   "source": [
    "### Regression Data"
   ]
  },
  {
   "cell_type": "code",
   "execution_count": 45,
   "id": "4ed16594",
   "metadata": {
    "scrolled": true
   },
   "outputs": [
    {
     "name": "stderr",
     "output_type": "stream",
     "text": [
      "/tmp/ipykernel_181/1284459285.py:6: FutureWarning: In a future version of pandas all arguments of DataFrame.drop except for the argument 'labels' will be keyword-only\n",
      "  df = preprocessing.scale(df.drop('quality',1))\n"
     ]
    }
   ],
   "source": [
    "# Sample wine data with an numeric quality score (integer)  \n",
    "df = pd.read_csv('https://archive.ics.uci.edu/ml/machine-learning-databases/wine-quality/winequality-red.csv', sep=';')\n",
    "Y = df['quality'].values\n",
    "le = preprocessing.LabelEncoder().fit(Y)\n",
    "Y = le.transform(Y)\n",
    "df = preprocessing.scale(df.drop('quality',1))\n",
    "x_train, x_test, y_train, y_test = sklearn.model_selection.train_test_split(df, Y)"
   ]
  },
  {
   "cell_type": "markdown",
   "id": "19eb2510",
   "metadata": {},
   "source": [
    "### Classification Data"
   ]
  },
  {
   "cell_type": "code",
   "execution_count": 17,
   "id": "15bcfbeb",
   "metadata": {
    "scrolled": true
   },
   "outputs": [
    {
     "name": "stderr",
     "output_type": "stream",
     "text": [
      "/tmp/ipykernel_181/702962683.py:5: FutureWarning: In a future version of pandas all arguments of DataFrame.drop except for the argument 'labels' will be keyword-only\n",
      "  df = preprocessing.scale(df.drop('class',1))\n"
     ]
    }
   ],
   "source": [
    "# Sample personal health data with binary label of whether the person has diabetes\n",
    "df = pd.read_csv('https://raw.githubusercontent.com/jbrownlee/Datasets/master/pima-indians-diabetes.csv')\n",
    "df.columns =['pregnancy count', 'glucose concentration', 'blood pressure', 'skinfold thickness', 'insulin', 'body mass index', 'diabetes pidegree', 'age', 'class']\n",
    "Y = df['class'].values\n",
    "df = preprocessing.scale(df.drop('class',1))\n",
    "x_train, x_test, y_train, y_test = sklearn.model_selection.train_test_split(df, Y)"
   ]
  },
  {
   "cell_type": "markdown",
   "id": "1c22ec84",
   "metadata": {},
   "source": [
    "## 1. Linear Regression\n",
    "- Linear regression with gradient descent\n",
    "- Linear regression using least squares formula to calculate weights\n",
    "- Linear regression +  Lasso regularization with gradient descent\n",
    "- Linear regression + Ridge regularization with gradient descent"
   ]
  },
  {
   "cell_type": "markdown",
   "id": "21c2c6f1",
   "metadata": {},
   "source": [
    "### 1.1 Linear Regression with Gradient Descent"
   ]
  },
  {
   "cell_type": "code",
   "execution_count": 19,
   "id": "a5615799",
   "metadata": {},
   "outputs": [],
   "source": [
    "def linreg_gd(X_train, y_train, lr=0.1, num_iter=1000):\n",
    "    m = X_train.shape[0]   # number of testing data points\n",
    "    n = X_train.shape[1]   # number of features\n",
    "    abs_err = []\n",
    "    X = np.column_stack((X_train, np.ones(m)))\n",
    "    w = np.zeros(n+1)\n",
    "    for i in range(num_iter):\n",
    "        y_pred = np.matmul(X, w)\n",
    "        err = y_train - y_pred\n",
    "        # least square loss: 1/m * (y_train - y_pred) ^ 2\n",
    "        abs_err.append(np.mean(err**2))   \n",
    "        gradient = - np.matmul(X.T, err) / m\n",
    "        w -= lr * gradient\n",
    "    return w, abs_err"
   ]
  },
  {
   "cell_type": "markdown",
   "id": "07cf2178",
   "metadata": {},
   "source": [
    "### Test\n",
    "We should see training error decreasing over iterations"
   ]
  },
  {
   "cell_type": "code",
   "execution_count": 20,
   "id": "ce6b9164",
   "metadata": {},
   "outputs": [
    {
     "name": "stdout",
     "output_type": "stream",
     "text": [
      "[ 0.0244851  -0.21652344 -0.03430126  0.0073608  -0.09386438  0.06568137\n",
      " -0.12588253  0.00467662 -0.0592274   0.14685876  0.30223722  2.6249093 ]\n"
     ]
    },
    {
     "data": {
      "text/plain": [
       "<matplotlib.collections.PathCollection at 0x7f0ef6d47df0>"
      ]
     },
     "execution_count": 20,
     "metadata": {},
     "output_type": "execute_result"
    },
    {
     "data": {
      "image/png": "[encoded data removed]",
      "text/plain": [
       "<Figure size 640x480 with 1 Axes>"
      ]
     },
     "metadata": {},
     "output_type": "display_data"
    }
   ],
   "source": [
    "w, abs_err = linreg_gd(x_train, y_train)\n",
    "print(w)\n",
    "plt.scatter(np.arange(len(abs_err)), abs_err)"
   ]
  },
  {
   "cell_type": "markdown",
   "id": "25a90b8f",
   "metadata": {},
   "source": [
    "### 1.2 Linear Regression with Ordinary Least Squares "
   ]
  },
  {
   "cell_type": "code",
   "execution_count": 21,
   "id": "11cdcf8e",
   "metadata": {},
   "outputs": [],
   "source": [
    "def linreg_ols(X_train, y_train):\n",
    "    X = np.column_stack((X_train, np.ones(X_train.shape[0])))\n",
    "    w = np.matmul(np.linalg.inv(np.matmul(X.T, X)), np.matmul(X.T, y_train))\n",
    "    return w"
   ]
  },
  {
   "cell_type": "markdown",
   "id": "f7c6c077",
   "metadata": {},
   "source": [
    "### Test\n",
    "Weights output should be similar to the weights output from `linreg_gd`"
   ]
  },
  {
   "cell_type": "code",
   "execution_count": 22,
   "id": "042e2e97",
   "metadata": {},
   "outputs": [
    {
     "data": {
      "text/plain": [
       "array([ 0.02432918, -0.21652636, -0.03428805,  0.00731678, -0.09387657,\n",
       "        0.06569476, -0.12589959,  0.00481803, -0.05931143,  0.14684088,\n",
       "        0.30231639,  2.62490888])"
      ]
     },
     "execution_count": 22,
     "metadata": {},
     "output_type": "execute_result"
    }
   ],
   "source": [
    "linreg_ols(x_train, y_train)"
   ]
  },
  {
   "cell_type": "markdown",
   "id": "1eb3c3db",
   "metadata": {},
   "source": [
    "### 1.3 Linear Regression with Lasso Regularization\n",
    "There's only one change from the `linreg_gd` function: the gradient calculation. \n",
    "We could add the lasso weight penalty to the loss function but it's easier to track the error coming from `y_train - y_pred` only"
   ]
  },
  {
   "cell_type": "code",
   "execution_count": 23,
   "id": "ac097eaa",
   "metadata": {},
   "outputs": [],
   "source": [
    "def linreg_lasso_gd(X_train, y_train, lr=0.1, num_iter=1000, alpha=0.1):\n",
    "    m = X_train.shape[0]\n",
    "    n = X_train.shape[1]\n",
    "    abs_err = []\n",
    "    X = np.column_stack((X_train, np.ones(m)))\n",
    "    w = np.zeros(n+1)\n",
    "    for _ in range(num_iter):\n",
    "        y_pred = np.matmul(X, w)\n",
    "        err = y_train - y_pred\n",
    "        abs_err.append(np.mean(np.abs(err**2)))\n",
    "        gradient = - np.matmul(X.T, err) / m + 2*alpha*np.sign(w)   # the only change from linreg_gd\n",
    "        w -= lr * gradient\n",
    "    return w, abs_err"
   ]
  },
  {
   "cell_type": "markdown",
   "id": "46600a78",
   "metadata": {},
   "source": [
    "### Test\n",
    "Weights outputd should be more sparse than results from `linreg_gd`\n"
   ]
  },
  {
   "cell_type": "code",
   "execution_count": 24,
   "id": "0dafb165",
   "metadata": {},
   "outputs": [
    {
     "name": "stdout",
     "output_type": "stream",
     "text": [
      "[-4.53206558e-03 -8.28308549e-02  2.52777707e-02 -9.58511807e-03\n",
      " -2.66399514e-02  8.65688798e-04 -2.51142814e-02 -3.08373778e-04\n",
      " -1.24311476e-02  2.13653684e-02  1.56361938e-01  2.42138986e+00]\n"
     ]
    },
    {
     "data": {
      "text/plain": [
       "<matplotlib.collections.PathCollection at 0x7f0ef6c14b80>"
      ]
     },
     "execution_count": 24,
     "metadata": {},
     "output_type": "execute_result"
    },
    {
     "data": {
      "image/png": "[encoded data removed]",
      "text/plain": [
       "<Figure size 640x480 with 1 Axes>"
      ]
     },
     "metadata": {},
     "output_type": "display_data"
    }
   ],
   "source": [
    "w, abs_err = linreg_lasso_gd(x_train, y_train)\n",
    "print(w)\n",
    "plt.scatter(np.arange(len(abs_err)), abs_err)"
   ]
  },
  {
   "cell_type": "markdown",
   "id": "c6b1100d",
   "metadata": {},
   "source": [
    "### 1.4 Linear Regression with Ridge Regularization\n",
    "Similarly, only the gradient calculation changes from the `linreg_gd` function"
   ]
  },
  {
   "cell_type": "code",
   "execution_count": 25,
   "id": "89559eac",
   "metadata": {},
   "outputs": [],
   "source": [
    "def linreg_lasso_gd(X_train, y_train, lr=0.1, num_iter=1000, alpha=0.1):\n",
    "    m = X_train.shape[0]\n",
    "    n = X_train.shape[1]\n",
    "    abs_err = []\n",
    "    X = np.column_stack((X_train, np.ones(m)))\n",
    "    w = np.zeros(n+1)\n",
    "    for _ in range(num_iter):\n",
    "        y_pred = np.matmul(X, w)\n",
    "        err = y_train - y_pred\n",
    "        abs_err.append(np.mean(np.abs(err**2)))\n",
    "        gradient = - np.matmul(X.T, err) / m + 2*alpha*w\n",
    "        w -= lr * gradient\n",
    "    return w, abs_err"
   ]
  },
  {
   "cell_type": "markdown",
   "id": "c683bd0d",
   "metadata": {},
   "source": [
    "### Test\n",
    "We are expected to see smaller weights but not necessarily sparse weights"
   ]
  },
  {
   "cell_type": "code",
   "execution_count": 26,
   "id": "82a62683",
   "metadata": {},
   "outputs": [
    {
     "name": "stdout",
     "output_type": "stream",
     "text": [
      "[ 0.04206569 -0.17513806  0.01522304  0.02025567 -0.08610069  0.04095288\n",
      " -0.09778237 -0.05729216 -0.03130913  0.12404878  0.22914681  2.18620391]\n"
     ]
    },
    {
     "data": {
      "text/plain": [
       "<matplotlib.collections.PathCollection at 0x7f0ef6befe20>"
      ]
     },
     "execution_count": 26,
     "metadata": {},
     "output_type": "execute_result"
    },
    {
     "data": {
      "image/png": "[encoded data removed]",
      "text/plain": [
       "<Figure size 640x480 with 1 Axes>"
      ]
     },
     "metadata": {},
     "output_type": "display_data"
    }
   ],
   "source": [
    "w, abs_err = linreg_lasso_gd(x_train, y_train)\n",
    "print(w)\n",
    "plt.scatter(np.arange(len(abs_err)), abs_err)"
   ]
  },
  {
   "cell_type": "markdown",
   "id": "1fe90cf5",
   "metadata": {},
   "source": [
    "## 2. Logistic Regression"
   ]
  },
  {
   "cell_type": "code",
   "execution_count": 3,
   "id": "25d981ca",
   "metadata": {},
   "outputs": [],
   "source": [
    "def logistic_regression_gd(X_train, y_train, lr=0.1, num_iter=1000):\n",
    "    m = X_train.shape[0]   # number of testing data points\n",
    "    n = X_train.shape[1]   # number of features\n",
    "    abs_err = []\n",
    "    X = np.column_stack((X_train, np.ones(m)))\n",
    "    w = np.zeros(n+1)\n",
    "    for i in range(num_iter):\n",
    "        z = np.matmul(X, w)\n",
    "        y_pred = 1/(1 + np.exp(-z))\n",
    "        err = y_train - y_pred\n",
    "        abs_err.append(np.mean(np.abs(err)))  \n",
    "        gradient = - np.matmul(X.T, err) / m\n",
    "        w -= lr * gradient\n",
    "    return w, abs_err\n",
    "    "
   ]
  },
  {
   "cell_type": "markdown",
   "id": "45856cbd",
   "metadata": {},
   "source": [
    "### Test"
   ]
  },
  {
   "cell_type": "code",
   "execution_count": 4,
   "id": "c7a9c778",
   "metadata": {},
   "outputs": [
    {
     "name": "stdout",
     "output_type": "stream",
     "text": [
      "[ 0.34357459  1.25855923 -0.27376869  0.06696354 -0.14192327  0.65022705\n",
      "  0.36491664  0.13925122 -0.83390201]\n"
     ]
    },
    {
     "data": {
      "text/plain": [
       "<matplotlib.collections.PathCollection at 0x7f495bb5fe50>"
      ]
     },
     "execution_count": 4,
     "metadata": {},
     "output_type": "execute_result"
    },
    {
     "data": {
      "image/png": "[encoded data removed]",
      "text/plain": [
       "<Figure size 640x480 with 1 Axes>"
      ]
     },
     "metadata": {},
     "output_type": "display_data"
    }
   ],
   "source": [
    "w, abs_err = logistic_regression_gd(x_train, y_train)\n",
    "print(w)\n",
    "plt.scatter(np.arange(len(abs_err)), abs_err)"
   ]
  },
  {
   "cell_type": "code",
   "execution_count": 21,
   "id": "2e0ea649",
   "metadata": {},
   "outputs": [],
   "source": [
    "# calculate prediction accuracy\n",
    "def logistic_regression_accuracy(X_test, w, Y_test):\n",
    "    X = np.column_stack((X_test, np.ones(x_test.shape[0])))\n",
    "    z = np.matmul(X, w)\n",
    "    y_pred = 1/(1 + np.exp(-z))\n",
    "    y_pred = np.array([0 if y < 0.5 else 1 for y in y_pred])\n",
    "    correct = sum([a == b for a, b in zip(y_pred, Y_test)])\n",
    "    accuracy = correct / len(Y_test)\n",
    "    return accuracy"
   ]
  },
  {
   "cell_type": "code",
   "execution_count": 22,
   "id": "7c9987b5",
   "metadata": {},
   "outputs": [
    {
     "data": {
      "text/plain": [
       "0.75"
      ]
     },
     "execution_count": 22,
     "metadata": {},
     "output_type": "execute_result"
    }
   ],
   "source": [
    "logistic_regression_accuracy(x_test, w, y_test)"
   ]
  },
  {
   "cell_type": "markdown",
   "id": "bfb8b365",
   "metadata": {},
   "source": [
    "## K-Means Clustering"
   ]
  },
  {
   "cell_type": "code",
   "execution_count": 32,
   "id": "2a4e2735",
   "metadata": {},
   "outputs": [],
   "source": [
    "def k_means(X_train, k):\n",
    "    def select_cluster(x, centroids):\n",
    "        distances = [np.sqrt(np.sum((x-c)**2)) for c in centroids]\n",
    "        min_d = min(distances)\n",
    "        return distances.index(min_d)\n",
    "        \n",
    "    # randomly choosing k data points to be centroids\n",
    "    centroids_old = np.zeros((k, X_train.shape[1]))\n",
    "    centroids_new = X_train[np.random.choice(len(X_train), k)]\n",
    "    while not np.array_equal(centroids_old, centroids_new):\n",
    "        centroids_old = centroids_new\n",
    "        assignment = [-1]*len(X_train)\n",
    "        cluster_items = [[] for _ in range(k)]\n",
    "        for i, x in enumerate(X_train):\n",
    "            cluster = select_cluster(x, centroids_old)\n",
    "            assignment[i] = cluster\n",
    "            cluster_items[cluster].append(x)\n",
    "        centroids_new = np.array([np.mean(cluster, axis=0) for cluster in cluster_items])\n",
    "    return centroids_new, assignment\n"
   ]
  },
  {
   "cell_type": "markdown",
   "id": "00a16dd2",
   "metadata": {},
   "source": [
    "### Choosing K\n",
    "Using the elbow method. Graph error and k values - the graph should assemble a decreasing exponential curve. The \"elbow\" of the curve represent the best k value. Conceptually, it means we don't want to further increase k just to marginally decrease the total distance between points and their centroids."
   ]
  },
  {
   "cell_type": "code",
   "execution_count": 18,
   "id": "4a439dbf",
   "metadata": {},
   "outputs": [],
   "source": [
    "def choose_k(X_train, max_k=10):\n",
    "    errors = []\n",
    "    K = range(1, max_k)\n",
    "    for k in K:\n",
    "        centroids, assignment = k_means(X_train, k)\n",
    "        err = 0\n",
    "        for i in range(len(X_train)):\n",
    "            c = centroids[assignment[i]]\n",
    "            err += np.sqrt(np.sum((X_train[i]-c)**2))\n",
    "        errors.append(err)\n",
    "    return errors, K"
   ]
  },
  {
   "cell_type": "code",
   "execution_count": 21,
   "id": "294ef095",
   "metadata": {},
   "outputs": [],
   "source": [
    "errors, K = choose_k(x_train, 12)"
   ]
  },
  {
   "cell_type": "code",
   "execution_count": 22,
   "id": "d3a0df02",
   "metadata": {},
   "outputs": [
    {
     "data": {
      "text/plain": [
       "[<matplotlib.lines.Line2D at 0x7fa63be974f0>]"
      ]
     },
     "execution_count": 22,
     "metadata": {},
     "output_type": "execute_result"
    },
    {
     "data": {
      "image/png": "[encoded data removed]",
      "text/plain": [
       "<Figure size 640x480 with 1 Axes>"
      ]
     },
     "metadata": {},
     "output_type": "display_data"
    }
   ],
   "source": [
    "plt.plot(K, errors)"
   ]
  },
  {
   "cell_type": "markdown",
   "id": "ad0eaa2d",
   "metadata": {},
   "source": [
    "### Test\n",
    "Compare classification result with sklearn's k-means. It would not be the same because the initialization is different. However, we can see that the distribution of classes is similar\n",
    "\n",
    "We ran it on the classification data."
   ]
  },
  {
   "cell_type": "code",
   "execution_count": 33,
   "id": "ca92f349",
   "metadata": {
    "scrolled": true
   },
   "outputs": [
    {
     "data": {
      "text/plain": [
       "(array([[-0.54687397, -0.0581768 , -3.57012772, -1.28688187, -0.69355921,\n",
       "         -1.19531707, -0.2596205 , -0.34977036],\n",
       "        [ 0.40305347,  0.65884435,  0.43463512, -1.14710392, -0.69355921,\n",
       "          0.10159204, -0.40505874,  1.31204932],\n",
       "        [-0.54093692, -0.5363101 , -0.10031735, -0.34606876, -0.16286657,\n",
       "         -0.68144583, -0.04320817, -0.72365275],\n",
       "        [-0.64769174,  0.07761627,  0.23552358,  0.67048276, -0.01963416,\n",
       "          0.66867296,  0.03874467, -0.55683226],\n",
       "        [-0.19436183,  1.35971686, -0.27649444,  0.52418337,  2.98294556,\n",
       "          0.16768475,  0.80675709, -0.08783036],\n",
       "        [ 1.15234968,  0.65721041,  0.49714194,  0.61420945,  0.3896397 ,\n",
       "          0.29425142,  0.18647066,  1.12640743]]),\n",
       " [1,\n",
       "  3,\n",
       "  1,\n",
       "  5,\n",
       "  1,\n",
       "  2,\n",
       "  3,\n",
       "  2,\n",
       "  3,\n",
       "  3,\n",
       "  3,\n",
       "  3,\n",
       "  2,\n",
       "  3,\n",
       "  3,\n",
       "  3,\n",
       "  3,\n",
       "  3,\n",
       "  3,\n",
       "  5,\n",
       "  2,\n",
       "  0,\n",
       "  1,\n",
       "  3,\n",
       "  2,\n",
       "  3,\n",
       "  5,\n",
       "  2,\n",
       "  1,\n",
       "  1,\n",
       "  3,\n",
       "  2,\n",
       "  5,\n",
       "  4,\n",
       "  1,\n",
       "  2,\n",
       "  2,\n",
       "  0,\n",
       "  5,\n",
       "  2,\n",
       "  5,\n",
       "  3,\n",
       "  5,\n",
       "  3,\n",
       "  3,\n",
       "  5,\n",
       "  2,\n",
       "  3,\n",
       "  1,\n",
       "  3,\n",
       "  5,\n",
       "  3,\n",
       "  1,\n",
       "  5,\n",
       "  2,\n",
       "  1,\n",
       "  2,\n",
       "  2,\n",
       "  3,\n",
       "  3,\n",
       "  5,\n",
       "  2,\n",
       "  5,\n",
       "  5,\n",
       "  3,\n",
       "  3,\n",
       "  2,\n",
       "  3,\n",
       "  4,\n",
       "  3,\n",
       "  2,\n",
       "  4,\n",
       "  0,\n",
       "  3,\n",
       "  2,\n",
       "  3,\n",
       "  1,\n",
       "  2,\n",
       "  2,\n",
       "  1,\n",
       "  3,\n",
       "  4,\n",
       "  2,\n",
       "  2,\n",
       "  2,\n",
       "  2,\n",
       "  4,\n",
       "  2,\n",
       "  3,\n",
       "  3,\n",
       "  4,\n",
       "  2,\n",
       "  5,\n",
       "  4,\n",
       "  3,\n",
       "  3,\n",
       "  2,\n",
       "  5,\n",
       "  1,\n",
       "  3,\n",
       "  1,\n",
       "  4,\n",
       "  3,\n",
       "  0,\n",
       "  3,\n",
       "  5,\n",
       "  1,\n",
       "  2,\n",
       "  4,\n",
       "  1,\n",
       "  3,\n",
       "  1,\n",
       "  2,\n",
       "  1,\n",
       "  2,\n",
       "  5,\n",
       "  0,\n",
       "  2,\n",
       "  3,\n",
       "  5,\n",
       "  3,\n",
       "  3,\n",
       "  2,\n",
       "  5,\n",
       "  5,\n",
       "  5,\n",
       "  1,\n",
       "  5,\n",
       "  4,\n",
       "  3,\n",
       "  5,\n",
       "  1,\n",
       "  1,\n",
       "  3,\n",
       "  1,\n",
       "  4,\n",
       "  5,\n",
       "  3,\n",
       "  2,\n",
       "  2,\n",
       "  0,\n",
       "  3,\n",
       "  1,\n",
       "  3,\n",
       "  1,\n",
       "  1,\n",
       "  5,\n",
       "  4,\n",
       "  1,\n",
       "  2,\n",
       "  2,\n",
       "  2,\n",
       "  1,\n",
       "  2,\n",
       "  2,\n",
       "  0,\n",
       "  1,\n",
       "  5,\n",
       "  0,\n",
       "  1,\n",
       "  2,\n",
       "  1,\n",
       "  3,\n",
       "  3,\n",
       "  1,\n",
       "  5,\n",
       "  1,\n",
       "  2,\n",
       "  3,\n",
       "  2,\n",
       "  2,\n",
       "  4,\n",
       "  3,\n",
       "  5,\n",
       "  3,\n",
       "  4,\n",
       "  2,\n",
       "  3,\n",
       "  2,\n",
       "  4,\n",
       "  3,\n",
       "  2,\n",
       "  2,\n",
       "  5,\n",
       "  1,\n",
       "  2,\n",
       "  2,\n",
       "  1,\n",
       "  4,\n",
       "  0,\n",
       "  1,\n",
       "  2])"
      ]
     },
     "execution_count": 33,
     "metadata": {},
     "output_type": "execute_result"
    }
   ],
   "source": [
    "k_means(x_test, 6)"
   ]
  },
  {
   "cell_type": "code",
   "execution_count": 28,
   "id": "9d40a8cc",
   "metadata": {},
   "outputs": [],
   "source": [
    "from sklearn.cluster import KMeans\n",
    "kmeans = KMeans(n_clusters=6, random_state=0).fit(x_test)"
   ]
  },
  {
   "cell_type": "code",
   "execution_count": 29,
   "id": "c2e2d10e",
   "metadata": {},
   "outputs": [
    {
     "name": "stdout",
     "output_type": "stream",
     "text": [
      "cluster centers: [[-0.6014675  -0.24232876 -0.0070356   0.16146567 -0.02011418 -0.0813117\n",
      "  -0.32342712 -0.67338768]\n",
      " [-0.57386054  0.44248635  0.30943177  0.42653837  0.08645339  0.60658008\n",
      "   1.97637254 -0.15410822]\n",
      " [ 0.40786729  0.57103499  0.40247925 -1.15465949 -0.69355921  0.007035\n",
      "  -0.453109    1.22170984]\n",
      " [ 1.42783932  0.36765897  0.55632025  0.66019222  0.2642553   0.3205132\n",
      "   0.05216857  1.18819202]\n",
      " [ 0.0044232   1.63826661 -0.08644165  0.59922441  3.21428195  0.15975725\n",
      "   0.30392033  0.06649547]\n",
      " [-0.54687397 -0.0581768  -3.57012772 -1.28688187 -0.69355921 -1.19531707\n",
      "  -0.2596205  -0.34977036]]\n",
      "labels: [2 0 2 3 2 0 0 0 0 0 0 0 0 0 0 0 1 0 0 3 0 5 2 0 0 0 1 0 2 2 1 0 3 4 2 0 0\n",
      " 5 0 0 0 0 3 0 0 3 0 1 2 1 3 0 2 3 0 2 0 0 0 0 1 0 3 3 0 0 0 0 0 0 0 4 5 0\n",
      " 0 0 2 0 0 2 0 4 1 2 0 0 4 0 0 1 4 0 3 1 0 0 0 3 2 1 2 4 1 5 0 3 2 0 4 2 0\n",
      " 2 0 2 0 3 5 1 0 3 1 0 0 3 1 3 2 3 4 0 3 1 2 0 2 4 3 0 2 1 5 0 2 1 2 2 4 1\n",
      " 2 0 0 2 2 1 0 5 2 3 5 2 0 2 0 1 2 0 2 0 0 0 1 4 1 3 3 4 0 0 0 4 0 0 0 3 2\n",
      " 0 0 2 4 5 2 0]\n"
     ]
    }
   ],
   "source": [
    "print(f'cluster centers: {kmeans.cluster_centers_}')\n",
    "print(f'labels: {kmeans.labels_}')"
   ]
  },
  {
   "cell_type": "markdown",
   "id": "404ab08e",
   "metadata": {},
   "source": [
    "## K Nearest Neighbors"
   ]
  },
  {
   "cell_type": "code",
   "execution_count": 37,
   "id": "4edd282b",
   "metadata": {},
   "outputs": [],
   "source": [
    "def KNN_classification(X_train, y_train, X_test, k=5):\n",
    "    y_pred = []\n",
    "    for x_test in X_test:\n",
    "        # calculate distance to each training data\n",
    "        distances = [[i, np.sqrt(np.sum((X_train[i]-x_test)**2))] for i in range(len(X_train))]\n",
    "        distances.sort(key = lambda x: x[1])\n",
    "        top_k_classes = [y_train[d[0]] for d in distances[:k]]\n",
    "        y_pred.append(max(top_k_classes,key=top_k_classes.count))\n",
    "    return y_pred"
   ]
  },
  {
   "cell_type": "code",
   "execution_count": 59,
   "id": "57da681c",
   "metadata": {},
   "outputs": [],
   "source": [
    "def KNN_regression(X_train, y_train, X_test, k=5):\n",
    "    y_pred = []\n",
    "    for x_test in X_test:\n",
    "        # calculate distance to each training data\n",
    "        distances = [[i, np.sqrt(np.sum((X_train[i]-x_test)**2))] for i in range(len(X_train))]\n",
    "        distances.sort(key = lambda x: x[1])\n",
    "        top_k_values = [y_train[d[0]] for d in distances[:k]]\n",
    "        y_pred.append(np.mean(top_k_values))\n",
    "    return y_pred"
   ]
  },
  {
   "cell_type": "markdown",
   "id": "53e8c55b",
   "metadata": {},
   "source": [
    "### Test for classification"
   ]
  },
  {
   "cell_type": "code",
   "execution_count": 43,
   "id": "760a6979",
   "metadata": {},
   "outputs": [
    {
     "data": {
      "text/plain": [
       "0.796875"
      ]
     },
     "execution_count": 43,
     "metadata": {},
     "output_type": "execute_result"
    }
   ],
   "source": [
    "def classification_accuracy(y_pred, y_train):\n",
    "    correct = sum([a == b for a, b in zip(y_pred, y_test)])\n",
    "    return correct / len(y_test)\n",
    "\n",
    "y_pred = KNN_classification(x_train, y_train, x_test)\n",
    "classification_accuracy(y_pred, y_train)"
   ]
  },
  {
   "cell_type": "code",
   "execution_count": 63,
   "id": "709e47a0",
   "metadata": {},
   "outputs": [
    {
     "data": {
      "text/plain": [
       "0.585"
      ]
     },
     "execution_count": 63,
     "metadata": {},
     "output_type": "execute_result"
    }
   ],
   "source": [
    "def regression_accuracy(y_pred, y_train):\n",
    "    correct = sum([round(a) == b for a, b in zip(y_pred, y_test)])\n",
    "    return correct / len(y_test)\n",
    "\n",
    "y_pred = KNN_regression(x_train, y_train, x_test)\n",
    "regression_accuracy(y_pred, y_train)"
   ]
  },
  {
   "cell_type": "markdown",
   "id": "f5b716d1",
   "metadata": {},
   "source": [
    "## Convolutional Neural Network"
   ]
  },
  {
   "cell_type": "code",
   "execution_count": 2,
   "id": "2909d4c7",
   "metadata": {},
   "outputs": [
    {
     "name": "stderr",
     "output_type": "stream",
     "text": [
      "2022-09-29 15:46:59.112314: W tensorflow/stream_executor/platform/default/dso_loader.cc:64] Could not load dynamic library 'libcudart.so.11.0'; dlerror: libcudart.so.11.0: cannot open shared object file: No such file or directory\n",
      "2022-09-29 15:46:59.112508: I tensorflow/stream_executor/cuda/cudart_stub.cc:29] Ignore above cudart dlerror if you do not have a GPU set up on your machine.\n"
     ]
    }
   ],
   "source": [
    "from keras.datasets import mnist\n",
    "(train_img, y_train), (val_img, y_test) = mnist.load_data()"
   ]
  },
  {
   "cell_type": "code",
   "execution_count": 3,
   "id": "a5a48b0c",
   "metadata": {},
   "outputs": [
    {
     "data": {
      "text/plain": [
       "(60000, 28, 28)"
      ]
     },
     "execution_count": 3,
     "metadata": {},
     "output_type": "execute_result"
    }
   ],
   "source": [
    "train_img.shape"
   ]
  },
  {
   "cell_type": "markdown",
   "id": "9baf1d9c",
   "metadata": {},
   "source": [
    "For now, we assume there's no padding and the stride is always 1.\n",
    "We are not considering"
   ]
  },
  {
   "cell_type": "code",
   "execution_count": 2,
   "id": "e45183a2",
   "metadata": {},
   "outputs": [],
   "source": [
    "# X[c][w][h]\n",
    "# conv[m][c][k][k]\n",
    "# reshaping one data entry \n",
    "def im2col(X, conv, stride=1, pad=0):\n",
    "    C = X.shape[0]  # channels\n",
    "    H = X.shape[1]  # width of image\n",
    "    W = X.shape[2]  # height of image\n",
    "    K = conv.shape[2]  # conv layer dimension\n",
    "    output = np.zeros((C*(H-K+1)*(W-K+1), (H-K+1)*(W-K+1)))\n",
    "    for c in range(C):\n",
    "        for h in range(H-K+1):\n",
    "            for w in range(W-K+1): \n",
    "                square = X[c, h:h+K, w:w+K]\n",
    "                output[c*K**2:(c+1)*K**2, h*(W-K+1)+w:h*(W-K+1)+w+1] = square.reshape(-1,1)\n",
    "    return output\n",
    "\n",
    "# X here is one image input\n",
    "def convolve(X, conv, stride=1, pad=0):\n",
    "    conv_col = conv.reshape(conv.shape[0],-1)\n",
    "    img_col = im2col(X, conv, stride, pad)\n",
    "    return np.matmul(conv_col, img_col)"
   ]
  },
  {
   "cell_type": "code",
   "execution_count": 23,
   "id": "298e4c67",
   "metadata": {},
   "outputs": [
    {
     "data": {
      "text/plain": [
       "array([[[[  1,   2],\n",
       "         [  3,   4]],\n",
       "\n",
       "        [[  5,   6],\n",
       "         [  7,   8]],\n",
       "\n",
       "        [[  9,  10],\n",
       "         [ 11,  12]]],\n",
       "\n",
       "\n",
       "       [[[101, 102],\n",
       "         [103, 104]],\n",
       "\n",
       "        [[105, 106],\n",
       "         [107, 108]],\n",
       "\n",
       "        [[109, 110],\n",
       "         [111, 112]]]])"
      ]
     },
     "execution_count": 23,
     "metadata": {},
     "output_type": "execute_result"
    }
   ],
   "source": [
    "conv11 = np.matrix('1 2; 3 4')\n",
    "conv12 = np.matrix('5 6; 7 8')\n",
    "conv13 = np.matrix('9 10; 11 12')\n",
    "conv21 = np.matrix('101 102; 103 104')\n",
    "conv22 = np.matrix('105 106; 107 108')\n",
    "conv23 = np.matrix('109 110; 111 112')\n",
    "conv1 = np.array([conv11, conv12, conv13])\n",
    "conv2 = np.array([conv21, conv22, conv23])\n",
    "conv = np.array([conv1, conv2])\n",
    "conv"
   ]
  },
  {
   "cell_type": "code",
   "execution_count": 24,
   "id": "ce958d43",
   "metadata": {},
   "outputs": [
    {
     "data": {
      "text/plain": [
       "array([[  1,   2,   3,   4,   5,   6,   7,   8,   9,  10,  11,  12],\n",
       "       [101, 102, 103, 104, 105, 106, 107, 108, 109, 110, 111, 112]])"
      ]
     },
     "execution_count": 24,
     "metadata": {},
     "output_type": "execute_result"
    }
   ],
   "source": [
    "conv.reshape(conv.shape[0],-1)"
   ]
  },
  {
   "cell_type": "code",
   "execution_count": 3,
   "id": "4caec2a0",
   "metadata": {},
   "outputs": [],
   "source": [
    "i0 = np.repeat(np.arange(3), 4)"
   ]
  },
  {
   "cell_type": "code",
   "execution_count": 4,
   "id": "ea85bd03",
   "metadata": {},
   "outputs": [
    {
     "data": {
      "text/plain": [
       "array([0, 0, 0, 0, 1, 1, 1, 1, 2, 2, 2, 2, 0, 0, 0, 0, 1, 1, 1, 1, 2, 2,\n",
       "       2, 2])"
      ]
     },
     "execution_count": 4,
     "metadata": {},
     "output_type": "execute_result"
    }
   ],
   "source": [
    "np.tile(i0, 2)"
   ]
  },
  {
   "cell_type": "code",
   "execution_count": 3,
   "id": "12bd73a5",
   "metadata": {},
   "outputs": [],
   "source": [
    "a = np.matrix('1 2 3 4 5 6 7 8 9 10 11 12 13 14 15 16; 101 102 103 104 105 106 107 108 109 110 111 112 113 114 115 116')"
   ]
  },
  {
   "cell_type": "code",
   "execution_count": 5,
   "id": "53ee1220",
   "metadata": {},
   "outputs": [
    {
     "ename": "ValueError",
     "evalue": "shape too large to be a matrix.",
     "output_type": "error",
     "traceback": [
      "\u001b[0;31m---------------------------------------------------------------------------\u001b[0m",
      "\u001b[0;31mValueError\u001b[0m                                Traceback (most recent call last)",
      "Cell \u001b[0;32mIn [5], line 1\u001b[0m\n\u001b[0;32m----> 1\u001b[0m \u001b[43ma\u001b[49m\u001b[38;5;241;43m.\u001b[39;49m\u001b[43mreshape\u001b[49m\u001b[43m(\u001b[49m\u001b[43ma\u001b[49m\u001b[38;5;241;43m.\u001b[39;49m\u001b[43mshape\u001b[49m\u001b[43m[\u001b[49m\u001b[38;5;241;43m0\u001b[39;49m\u001b[43m]\u001b[49m\u001b[43m,\u001b[49m\u001b[43m \u001b[49m\u001b[38;5;241;43m4\u001b[39;49m\u001b[43m,\u001b[49m\u001b[43m \u001b[49m\u001b[38;5;241;43m4\u001b[39;49m\u001b[43m)\u001b[49m\n",
      "File \u001b[0;32m/opt/conda/lib/python3.9/site-packages/numpy/matrixlib/defmatrix.py:180\u001b[0m, in \u001b[0;36mmatrix.__array_finalize__\u001b[0;34m(self, obj)\u001b[0m\n\u001b[1;32m    178\u001b[0m         \u001b[38;5;28;01mreturn\u001b[39;00m\n\u001b[1;32m    179\u001b[0m     \u001b[38;5;28;01melif\u001b[39;00m (ndim \u001b[38;5;241m>\u001b[39m \u001b[38;5;241m2\u001b[39m):\n\u001b[0;32m--> 180\u001b[0m         \u001b[38;5;28;01mraise\u001b[39;00m \u001b[38;5;167;01mValueError\u001b[39;00m(\u001b[38;5;124m\"\u001b[39m\u001b[38;5;124mshape too large to be a matrix.\u001b[39m\u001b[38;5;124m\"\u001b[39m)\n\u001b[1;32m    181\u001b[0m \u001b[38;5;28;01melse\u001b[39;00m:\n\u001b[1;32m    182\u001b[0m     newshape \u001b[38;5;241m=\u001b[39m \u001b[38;5;28mself\u001b[39m\u001b[38;5;241m.\u001b[39mshape\n",
      "\u001b[0;31mValueError\u001b[0m: shape too large to be a matrix."
     ]
    }
   ],
   "source": [
    "a.reshape(a.shape[0], 4, 4)"
   ]
  },
  {
   "cell_type": "code",
   "execution_count": 9,
   "id": "ac5eaa4c",
   "metadata": {},
   "outputs": [
    {
     "data": {
      "text/plain": [
       "array([[[[-0.01432393,  0.06942734],\n",
       "         [ 0.14433663,  0.06513587]],\n",
       "\n",
       "        [[-0.02662315,  0.00472245],\n",
       "         [ 0.12441861, -0.05063073]],\n",
       "\n",
       "        [[-0.04020753,  0.02172878],\n",
       "         [ 0.02303656,  0.08996843]]],\n",
       "\n",
       "\n",
       "       [[[ 0.08960571,  0.09796114],\n",
       "         [ 0.07416598,  0.02825144]],\n",
       "\n",
       "        [[ 0.03548068,  0.13829336],\n",
       "         [ 0.04264725,  0.2433835 ]],\n",
       "\n",
       "        [[ 0.18888057, -0.01338895],\n",
       "         [-0.1037345 , -0.00367499]]]])"
      ]
     },
     "execution_count": 9,
     "metadata": {},
     "output_type": "execute_result"
    }
   ],
   "source": [
    "def init_conv_parameters(num_filters, num_channels, filter_shape):\n",
    "        l1 = []\n",
    "        for i in range(num_filters):\n",
    "            l2 = []\n",
    "            for j in range(num_channels):\n",
    "                    l2.append(np.random.randn(filter_shape[0], filter_shape[1]) * .1)\n",
    "            l1.append(l2)\n",
    "        return np.array(l1)\n",
    "    \n",
    "init_conv_parameters(2, 3, (2,2))"
   ]
  },
  {
   "cell_type": "code",
   "execution_count": 15,
   "id": "695cd23e",
   "metadata": {},
   "outputs": [
    {
     "data": {
      "text/plain": [
       "array([[0],\n",
       "       [1]])"
      ]
     },
     "execution_count": 15,
     "metadata": {},
     "output_type": "execute_result"
    }
   ],
   "source": [
    "np.arange(2)[:, None]\n"
   ]
  },
  {
   "cell_type": "code",
   "execution_count": 14,
   "id": "9e296095",
   "metadata": {},
   "outputs": [
    {
     "data": {
      "text/plain": [
       "array([0, 1])"
      ]
     },
     "execution_count": 14,
     "metadata": {},
     "output_type": "execute_result"
    }
   ],
   "source": [
    "np.arange(2)"
   ]
  },
  {
   "cell_type": "code",
   "execution_count": 18,
   "id": "1732025f",
   "metadata": {},
   "outputs": [],
   "source": [
    "def img2col(matrix, filter_size):\n",
    "        col_extent = matrix.shape[1]-filter_size[1] + 1\n",
    "        row_extent = matrix.shape[0]-filter_size[0] + 1\n",
    "        start_idx = np.arange(filter_size[0])[:, None]*matrix.shape[1] + np.arange(filter_size[1])\n",
    "        offset_idx = np.arange(row_extent)[:,None]*matrix.shape[0] + np.arange(col_extent)\n",
    "        out = np.take(matrix, start_idx.ravel()[:,None] + offset_idx.ravel())\n",
    "        return out.T"
   ]
  },
  {
   "cell_type": "code",
   "execution_count": 21,
   "id": "c8489bcb",
   "metadata": {},
   "outputs": [],
   "source": [
    "mat = np.matrix('1 2 3; 4 5 6; 7 8 9')\n",
    "output = img2col(mat, (2,2))"
   ]
  },
  {
   "cell_type": "code",
   "execution_count": 29,
   "id": "f68331ee",
   "metadata": {},
   "outputs": [
    {
     "ename": "ValueError",
     "evalue": "shape too large to be a matrix.",
     "output_type": "error",
     "traceback": [
      "\u001b[0;31m---------------------------------------------------------------------------\u001b[0m",
      "\u001b[0;31mValueError\u001b[0m                                Traceback (most recent call last)",
      "Cell \u001b[0;32mIn [29], line 1\u001b[0m\n\u001b[0;32m----> 1\u001b[0m \u001b[43moutput\u001b[49m\u001b[38;5;241;43m.\u001b[39;49m\u001b[43mflatten\u001b[49m\u001b[43m(\u001b[49m\u001b[43m)\u001b[49m\u001b[38;5;241;43m.\u001b[39;49m\u001b[43mreshape\u001b[49m\u001b[43m(\u001b[49m\u001b[38;5;241;43m2\u001b[39;49m\u001b[43m,\u001b[49m\u001b[43m \u001b[49m\u001b[38;5;241;43m2\u001b[39;49m\u001b[43m,\u001b[49m\u001b[43m \u001b[49m\u001b[38;5;241;43m4\u001b[39;49m\u001b[43m)\u001b[49m\n",
      "File \u001b[0;32m/opt/conda/lib/python3.9/site-packages/numpy/matrixlib/defmatrix.py:180\u001b[0m, in \u001b[0;36mmatrix.__array_finalize__\u001b[0;34m(self, obj)\u001b[0m\n\u001b[1;32m    178\u001b[0m         \u001b[38;5;28;01mreturn\u001b[39;00m\n\u001b[1;32m    179\u001b[0m     \u001b[38;5;28;01melif\u001b[39;00m (ndim \u001b[38;5;241m>\u001b[39m \u001b[38;5;241m2\u001b[39m):\n\u001b[0;32m--> 180\u001b[0m         \u001b[38;5;28;01mraise\u001b[39;00m \u001b[38;5;167;01mValueError\u001b[39;00m(\u001b[38;5;124m\"\u001b[39m\u001b[38;5;124mshape too large to be a matrix.\u001b[39m\u001b[38;5;124m\"\u001b[39m)\n\u001b[1;32m    181\u001b[0m \u001b[38;5;28;01melse\u001b[39;00m:\n\u001b[1;32m    182\u001b[0m     newshape \u001b[38;5;241m=\u001b[39m \u001b[38;5;28mself\u001b[39m\u001b[38;5;241m.\u001b[39mshape\n",
      "\u001b[0;31mValueError\u001b[0m: shape too large to be a matrix."
     ]
    }
   ],
   "source": [
    "output.flatten().reshape(2, 2, 4)"
   ]
  },
  {
   "cell_type": "code",
   "execution_count": 24,
   "id": "0d582e4a",
   "metadata": {},
   "outputs": [
    {
     "data": {
      "text/plain": [
       "matrix([[1, 2, 4, 5],\n",
       "        [2, 3, 5, 6],\n",
       "        [4, 5, 7, 8],\n",
       "        [5, 6, 8, 9]])"
      ]
     },
     "execution_count": 24,
     "metadata": {},
     "output_type": "execute_result"
    }
   ],
   "source": [
    "output"
   ]
  },
  {
   "cell_type": "code",
   "execution_count": null,
   "id": "7f7b9ace",
   "metadata": {},
   "outputs": [],
   "source": []
  }
 ],
 "metadata": {
  "kernelspec": {
   "display_name": "Python 3 (ipykernel)",
   "language": "python",
   "name": "python3"
  },
  "language_info": {
   "codemirror_mode": {
    "name": "ipython",
    "version": 3
   },
   "file_extension": ".py",
   "mimetype": "text/x-python",
   "name": "python",
   "nbconvert_exporter": "python",
   "pygments_lexer": "ipython3",
   "version": "3.9.13"
  }
 },
 "nbformat": 4,
 "nbformat_minor": 5
}
